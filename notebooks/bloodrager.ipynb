{
 "cells": [
  {
   "cell_type": "markdown",
   "id": "e46c04f1-a95e-4301-8763-10c69d6aff06",
   "metadata": {},
   "source": [
    "# Bloodrager\n",
    "Bloodrager barbarian critfishing build\n",
    "Leshy\n",
    "\n",
    "**Feats:**\n",
    "1. Extended Reach, (free)\n",
    "2. Bloodrager Dedication\n",
    "3. Toughness\n",
    "4. Rising Blood Magic\n",
    "5.\n",
    "6. Siphon Magic\n",
    "7.\n",
    "8. Reactive Strike\n",
    "9.\n",
    "10. Hematocritical\n",
    "\n",
    "**Spells**: **cantrips** ignition or live wire, electric arc; **1st** Sure Strike; **2nd** Brine Dragon Bile; **3rd** Haste or Blazing Bolt\n",
    "\n",
    "**Equipment:** +1 Striking Rooting Greatpick or Greatsword"
   ]
  },
  {
   "cell_type": "code",
   "execution_count": null,
   "id": "c3602921-1799-4266-b8f6-cf40eeba4157",
   "metadata": {},
   "outputs": [],
   "source": [
    "import xarray\n",
    "\n",
    "import pathfinder2e_stats as pf2\n",
    "from pathfinder2e_stats.tables import NPC, PC"
   ]
  },
  {
   "cell_type": "code",
   "execution_count": null,
   "id": "0ceac684-4804-40f8-a186-ca6d48ffd485",
   "metadata": {},
   "outputs": [],
   "source": [
    "level = 10\n",
    "use_hematocritical = True\n",
    "use_rooting_rune = True\n",
    "use_sword = False"
   ]
  },
  {
   "cell_type": "markdown",
   "id": "4a542e98-cd01-40e7-90a9-78388148409d",
   "metadata": {},
   "source": [
    "## Attak bonus progrssion\n",
    "Weapon vs. spell"
   ]
  },
  {
   "cell_type": "code",
   "execution_count": null,
   "id": "d220b5e7-b670-4280-8172-5cb3df1bfb2b",
   "metadata": {},
   "outputs": [],
   "source": [
    "weapon_atk_bonus = (\n",
    "    PC.level\n",
    "    + PC.weapon_proficiency.sel(weapon_proficiency_col=\"Martial\", drop=True)\n",
    "    + PC.ability_bonus.sel(ability_bonus_col=\"4-boosts\", drop=True)\n",
    "    + PC.ability_bonus.sel(ability_bonus_col=\"Apex\", drop=True)\n",
    "    + PC.attack_item_bonus.sel(attack_item_bonus_col=\"Potency Rune\", drop=True)\n",
    ")\n",
    "\n",
    "spell_atk_bonus = (\n",
    "    PC.level\n",
    "    + PC.spell_proficiency.sel(spell_proficiency_col=\"Dedication\", drop=True)\n",
    "    + PC.ability_bonus.sel(ability_bonus_col=\"2-boosts\", drop=True)\n",
    ")\n",
    "\n",
    "atk_bonus = xarray.concat([weapon_atk_bonus, spell_atk_bonus], dim=\"kind\").T\n",
    "atk_bonus.coords[\"kind\"] = [\"weapon\", \"spell\"]\n",
    "atk_bonus.to_pandas()"
   ]
  },
  {
   "cell_type": "markdown",
   "id": "f61e233d-39cb-4606-bcf3-06cbda57e565",
   "metadata": {},
   "source": [
    "### Let's select 3 standard targets:\n",
    "- level -2 henchman, all defenses are low\n",
    "- at-level monster, all defenses are moderate\n",
    "- level +2 boss, all defenses are high"
   ]
  },
  {
   "cell_type": "code",
   "execution_count": null,
   "id": "c907f9ac-0a9c-4973-9b17-ea9ba38e0d74",
   "metadata": {},
   "outputs": [],
   "source": [
    "rank = pf2.level2rank(level)\n",
    "\n",
    "AC = xarray.concat(\n",
    "    [\n",
    "        NPC.AC.sel(level=level - 2, challenge=\"Low\"),\n",
    "        NPC.AC.sel(level=level + 0, challenge=\"Moderate\"),\n",
    "        NPC.AC.sel(level=level + 2, challenge=\"High\"),\n",
    "    ],\n",
    "    dim=\"challenge\",\n",
    ")\n",
    "saves = xarray.concat(\n",
    "    [\n",
    "        NPC.saving_throws.sel(level=level - 2, challenge=\"Low\"),\n",
    "        NPC.saving_throws.sel(level=level + 0, challenge=\"Moderate\"),\n",
    "        NPC.saving_throws.sel(level=level + 2, challenge=\"High\"),\n",
    "    ],\n",
    "    dim=\"challenge\",\n",
    ")\n",
    "defenses = xarray.concat([AC, saves], dim=\"kind\")\n",
    "defenses.coords[\"kind\"] = [\"AC\", \"saves\"]\n",
    "defenses.to_pandas()"
   ]
  },
  {
   "cell_type": "markdown",
   "id": "553396f9-df0a-449d-8e6b-7e9cff7f2bfa",
   "metadata": {},
   "source": [
    "## Build damage profiles for weapon and spells"
   ]
  },
  {
   "cell_type": "code",
   "execution_count": null,
   "id": "159ccd3d-13ec-45b9-9924-65ef8eb9aa6a",
   "metadata": {},
   "outputs": [],
   "source": [
    "STR = PC.ability_bonus.sel(\n",
    "    level=level, ability_bonus_col=[\"4-boosts\", \"Apex\"], drop=True\n",
    ").sum(\"ability_bonus_col\")\n",
    "weapon_specialization = PC.weapon_specialization.sel(\n",
    "    level=level, weapon_specialization_col=\"Martial\", drop=True\n",
    ")\n",
    "rage_weapon = PC.rage.sel(level=level, rage_col=\"Bloodrager weapon\", drop=True)\n",
    "weapon_dmg_bonus = (STR + weapon_specialization + rage_weapon).values.tolist()\n",
    "rage_bleed = PC.rage.sel(\n",
    "    level=level, rage_col=\"Bloodrager bleed\", drop=True\n",
    ").values.tolist()\n",
    "\n",
    "if use_sword:\n",
    "    # +1 Striking Rooting Greatsword with extended reach\n",
    "    weapon = pf2.armory.swords.greatsword(2, weapon_dmg_bonus).reduce_die()\n",
    "else:\n",
    "    # +1 Striking Rooting Greatpick with extended reach\n",
    "    weapon = pf2.armory.picks.greatpick(2, weapon_dmg_bonus).reduce_die()\n",
    "    if level >= 5:\n",
    "        weapon += pf2.armory.picks.critical_specialization(2)\n",
    "\n",
    "weapon += pf2.Damage(\"bleed\", 0, 0, rage_bleed, persistent=True)\n",
    "weapon"
   ]
  },
  {
   "cell_type": "code",
   "execution_count": null,
   "id": "72ff4276-aeaa-4d2d-9dd2-9a1ce6dffa7d",
   "metadata": {},
   "outputs": [],
   "source": [
    "def rage_spell(\n",
    "    level: int, type_: str, *, persistent: bool = False, drained: int = 2\n",
    ") -> dict[pf2.DoS, list[pf2.Damage]]:\n",
    "    raw = PC.rage.sel(\n",
    "        level=level, rage_col=f\"Bloodrager spell drained {drained}\", drop=True\n",
    "    ).values.tolist()\n",
    "    d = pf2.Damage(type_, 0, 0, raw, persistent=persistent)\n",
    "    return {\n",
    "        pf2.DoS.critical_success: [d.copy(multiplier=2)],\n",
    "        pf2.DoS.success: [d],\n",
    "        pf2.DoS.failure: [d],\n",
    "    }\n",
    "\n",
    "\n",
    "ignition_melee = pf2.armory.cantrips.ignition(rank, melee=True) + rage_spell(\n",
    "    level, \"fire\"\n",
    ")\n",
    "ignition_melee"
   ]
  },
  {
   "cell_type": "code",
   "execution_count": null,
   "id": "40aa17aa-33f5-4f74-ad50-779e3b0f0af4",
   "metadata": {},
   "outputs": [],
   "source": [
    "ignition_ranged = pf2.armory.cantrips.ignition(rank, melee=False) + rage_spell(\n",
    "    level, \"fire\"\n",
    ")\n",
    "ignition_ranged"
   ]
  },
  {
   "cell_type": "code",
   "execution_count": null,
   "id": "ca51308f-f20b-48e3-9081-58dc60d69d2b",
   "metadata": {},
   "outputs": [],
   "source": [
    "live_wire = pf2.armory.cantrips.live_wire(rank) + rage_spell(level, \"electricity\")\n",
    "live_wire"
   ]
  },
  {
   "cell_type": "code",
   "execution_count": null,
   "id": "e0ab619f-1398-4bc7-9c85-b40a2c865943",
   "metadata": {},
   "outputs": [],
   "source": [
    "electric_arc = pf2.armory.cantrips.electric_arc(rank)\n",
    "electric_arc"
   ]
  },
  {
   "cell_type": "code",
   "execution_count": null,
   "id": "d4543d9c-e6b3-437f-b8ee-2867fe818872",
   "metadata": {},
   "outputs": [],
   "source": [
    "brine_dragon_bile = pf2.armory.spells.brine_dragon_bile(2) + rage_spell(\n",
    "    level, \"acid\", persistent=True\n",
    ")\n",
    "brine_dragon_bile"
   ]
  },
  {
   "cell_type": "code",
   "execution_count": null,
   "id": "c67da46a-b448-4b32-8836-8867278531e1",
   "metadata": {},
   "outputs": [],
   "source": [
    "blazing_bolt_1action = pf2.armory.spells.blazing_bolt(rank=2, actions=1) + rage_spell(\n",
    "    level, \"fire\"\n",
    ")\n",
    "blazing_bolt_1action"
   ]
  },
  {
   "cell_type": "code",
   "execution_count": null,
   "id": "e412ccc8-30e0-4dc6-a4cb-d1dec2c4a716",
   "metadata": {},
   "outputs": [],
   "source": [
    "blazing_bolt_3actions = pf2.armory.spells.blazing_bolt(rank=2, actions=3) + rage_spell(\n",
    "    level, \"fire\"\n",
    ")\n",
    "blazing_bolt_3actions"
   ]
  },
  {
   "cell_type": "markdown",
   "id": "75f2af58-1978-49d5-bfe3-337ffef707dc",
   "metadata": {},
   "source": [
    "## Attack routine\n",
    "- Strike (with flank) -> Hematocritical if crit -> spell, _or_\n",
    "- (if hasted) Sure Strike -> Strike (with flank) -> Hematocritical -> spell\n",
    "\n",
    "Spell is one of:\n",
    "- ignition (melee with flank)\n",
    "- ignition (ranged due to reach)\n",
    "- live wire\n",
    "- electric arc (1-2 targets)\n",
    "- blazing bolt, rank 2 (1-2-3 actions) (infinitely cycling with Syphon Magic)\n",
    "- (out of round) brine dragon bile (infinitely cycling with Syphon Magic)"
   ]
  },
  {
   "cell_type": "code",
   "execution_count": null,
   "id": "d8d78b31-0115-47ca-a218-41a05a79a786",
   "metadata": {},
   "outputs": [],
   "source": [
    "melee_fortune = xarray.DataArray(\n",
    "    [False, True],\n",
    "    dims=[\"Sure Strike\"],\n",
    "    coords={\"Sure Strike\": [False, True]},\n",
    ")\n",
    "\n",
    "strike = pf2.damage(\n",
    "    pf2.check(\n",
    "        bonus=atk_bonus.sel(level=level, kind=\"weapon\").values.tolist(),\n",
    "        DC=AC - 2,\n",
    "        fortune=melee_fortune,\n",
    "    ),\n",
    "    weapon,\n",
    ")"
   ]
  },
  {
   "cell_type": "markdown",
   "id": "58d96131-4da7-4950-9a0d-e69cb4685235",
   "metadata": {},
   "source": [
    "### What are the chances of a critical hit on the weapon strike?"
   ]
  },
  {
   "cell_type": "code",
   "execution_count": null,
   "id": "d92eaa13-930d-4ea8-a257-40d083d27438",
   "metadata": {},
   "outputs": [],
   "source": [
    "melee_crit = strike.outcome == pf2.DoS.critical_success\n",
    "melee_crit.mean(\"roll\").to_pandas()"
   ]
  },
  {
   "cell_type": "markdown",
   "id": "2a5587ae-46bd-462e-9cb2-70925190c04b",
   "metadata": {},
   "source": [
    "### The conditions of the next spell change depending on the strike and equipment\n",
    "- if the strike was critical, we can use Hematocritical\n",
    "- if the weapon was rooting, the target is now Clumsy 1\n",
    "- if the weapon was a sword, th target is now off-guard even if not flanked"
   ]
  },
  {
   "cell_type": "code",
   "execution_count": null,
   "id": "cf28ac40-7241-4be6-aa4b-995a8173313e",
   "metadata": {},
   "outputs": [],
   "source": [
    "hematocritical = melee_crit if use_hematocritical else xarray.zeros_like(melee_crit)\n",
    "clumsy = melee_crit if use_rooting_rune else xarray.zeros_like(melee_crit).astype(int)\n",
    "ranged_off_guard = 2 * melee_crit if use_sword else xarray.zeros_like(melee_crit)"
   ]
  },
  {
   "cell_type": "markdown",
   "id": "a94aa453-c7b8-4425-a9fa-612af82f362d",
   "metadata": {},
   "source": [
    "### Roll damage for the spells"
   ]
  },
  {
   "cell_type": "code",
   "execution_count": null,
   "id": "ce5b1502-da17-49e4-8e44-fa2f8ce63198",
   "metadata": {},
   "outputs": [],
   "source": [
    "ignition_melee_dmg = pf2.damage(\n",
    "    pf2.check(\n",
    "        spell_atk_bonus.sel(level=level, drop=True) - 5,\n",
    "        DC=AC - 2 - clumsy,\n",
    "        fortune=hematocritical,\n",
    "    ),\n",
    "    ignition_melee,\n",
    ")\n",
    "\n",
    "ignition_ranged_dmg = pf2.damage(\n",
    "    pf2.check(\n",
    "        spell_atk_bonus.sel(level=level, drop=True) - 5,\n",
    "        DC=AC - clumsy - ranged_off_guard,\n",
    "        fortune=hematocritical,\n",
    "    ),\n",
    "    ignition_ranged,\n",
    ")\n",
    "\n",
    "live_wire_dmg = pf2.damage(\n",
    "    pf2.check(\n",
    "        spell_atk_bonus.sel(level=level, drop=True) - 5,\n",
    "        DC=AC - clumsy - ranged_off_guard,\n",
    "        fortune=hematocritical,\n",
    "    ),\n",
    "    live_wire,\n",
    ")\n",
    "\n",
    "electric_arc_dmg = pf2.damage(\n",
    "    pf2.check(\n",
    "        saves - xarray.concat([clumsy, xarray.DataArray(0)], dim=\"target\"),\n",
    "        DC=spell_atk_bonus.sel(level=level, drop=True) + 10,\n",
    "        misfortune=hematocritical,\n",
    "    ),\n",
    "    electric_arc,\n",
    ")"
   ]
  },
  {
   "cell_type": "code",
   "execution_count": null,
   "id": "b6433e2f-7ed6-4324-a952-41e60c848c6e",
   "metadata": {},
   "outputs": [],
   "source": [
    "blazing_bolt_check = pf2.check(\n",
    "    spell_atk_bonus.sel(level=level, drop=True) - 5,\n",
    "    DC=AC\n",
    "    - xarray.concat(\n",
    "        [clumsy + ranged_off_guard, xarray.DataArray(0), xarray.DataArray(0)],\n",
    "        dim=\"target\",\n",
    "    ),\n",
    "    fortune=hematocritical,\n",
    ")\n",
    "blazing_bolt_1action_dmg = pf2.damage(\n",
    "    blazing_bolt_check.isel(target=0, drop=True),\n",
    "    blazing_bolt_1action,\n",
    ")\n",
    "blazing_bolt_3actions_dmg = pf2.damage(\n",
    "    blazing_bolt_check,\n",
    "    blazing_bolt_3actions,\n",
    ")\n",
    "blazing_bolt_2actions_dmg = blazing_bolt_3actions_dmg.isel(target=slice(2))"
   ]
  },
  {
   "cell_type": "markdown",
   "id": "5f20e853-ff3d-43fe-b15e-7c1686d4bc2c",
   "metadata": {},
   "source": [
    "### Also show:\n",
    "- A second iterative strike\n",
    "- a standalon 3-actions Blazing Bolt\n",
    "- an out-of-round Brine Dragon Bile"
   ]
  },
  {
   "cell_type": "code",
   "execution_count": null,
   "id": "6b86c8a4-389e-4899-958a-de0a0a8701f0",
   "metadata": {},
   "outputs": [],
   "source": [
    "strike2 = pf2.damage(\n",
    "    pf2.check(\n",
    "        bonus=atk_bonus.sel(level=level, kind=\"weapon\").values.tolist() - 5,\n",
    "        DC=AC - 2 - clumsy,\n",
    "    ),\n",
    "    weapon,\n",
    ")"
   ]
  },
  {
   "cell_type": "code",
   "execution_count": null,
   "id": "a81ffce2-ccbd-47fa-986f-320340ac54cf",
   "metadata": {},
   "outputs": [],
   "source": [
    "blazing_bolt_check_noMAP = pf2.check(\n",
    "    spell_atk_bonus.sel(level=level, drop=True),\n",
    "    DC=AC,\n",
    "    dims={\"target\": 3},\n",
    ")\n",
    "blazing_bolt_3actions_noMAP_dmg = pf2.damage(\n",
    "    blazing_bolt_check_noMAP,\n",
    "    blazing_bolt_3actions,\n",
    ")\n",
    "\n",
    "brine_dragon_bile_check = pf2.check(\n",
    "    spell_atk_bonus.sel(level=level, drop=True),\n",
    "    DC=AC,\n",
    ")\n",
    "brine_dragon_bile_dmg = pf2.damage(\n",
    "    brine_dragon_bile_check,\n",
    "    brine_dragon_bile,\n",
    ")"
   ]
  },
  {
   "cell_type": "markdown",
   "id": "bd5167d0-a70f-4682-aa5a-56b72770952e",
   "metadata": {},
   "source": [
    "## Mean damage for every action"
   ]
  },
  {
   "cell_type": "code",
   "execution_count": null,
   "id": "8c7a8d2a-145e-42f8-a67d-60433a44343e",
   "metadata": {},
   "outputs": [],
   "source": [
    "total_damage = xarray.concat(\n",
    "    [\n",
    "        strike.total_damage,\n",
    "        strike2.total_damage,\n",
    "        ignition_melee_dmg.total_damage,\n",
    "        ignition_ranged_dmg.total_damage,\n",
    "        live_wire_dmg.total_damage,\n",
    "        electric_arc_dmg.total_damage.isel(target=0, drop=True),\n",
    "        electric_arc_dmg.total_damage.sum(\"target\"),\n",
    "        blazing_bolt_1action_dmg.total_damage,\n",
    "        blazing_bolt_2actions_dmg.total_damage.sum(\"target\"),\n",
    "        blazing_bolt_3actions_dmg.total_damage.sum(\"target\"),\n",
    "        blazing_bolt_3actions_noMAP_dmg.total_damage.sum(\"target\"),\n",
    "        brine_dragon_bile_dmg.total_damage,\n",
    "    ],\n",
    "    dim=\"spell\",\n",
    "    coords=\"minimal\",\n",
    ").mean(\"roll\")\n",
    "total_damage.coords[\"spell\"] = [\n",
    "    \"Weapon Strike (flanked)\",\n",
    "    \"Iterative Weapon Strike (flanked) (MAP-5)\",\n",
    "    \"Ignition (melee, flanked) (MAP-5)\",\n",
    "    \"Ignition (ranged) (MAP-5)\",\n",
    "    \"Live Wire (MAP-5)\",\n",
    "    \"Electric Arc (1 target)\",\n",
    "    \"Electric Arc (2 targets)\",\n",
    "    \"Blazing Bolt > (MAP-5)\",\n",
    "    \"Blazing Bolt >> (MAP-5)\",\n",
    "    \"Blazing Bolt >>> (MAP-5)\",\n",
    "    \"Blazing Bolt >>> (standalone)\",\n",
    "    \"Brine Dragon Bile (standalone)\",\n",
    "]\n",
    "total_damage.loc[{\"spell\": total_damage.spell[-3:], \"Sure Strike\": True}] = float(\"nan\")\n",
    "total_damage.stack(col=[\"challenge\", \"Sure Strike\"]).to_pandas().round(2)"
   ]
  },
  {
   "cell_type": "markdown",
   "id": "b9be311d-fd14-475d-8078-54d0e9dca6f8",
   "metadata": {},
   "source": [
    "### Outcome probability for the initial Strike"
   ]
  },
  {
   "cell_type": "code",
   "execution_count": null,
   "id": "1daa5aa6-6129-4c2d-9b53-10a9144f51ac",
   "metadata": {},
   "outputs": [],
   "source": [
    "(pf2.outcome_counts(strike).stack(col=[\"challenge\", \"Sure Strike\"]).to_pandas() * 100.0)"
   ]
  },
  {
   "cell_type": "markdown",
   "id": "f540abfb-88d6-423e-ad96-6bd4894f1de8",
   "metadata": {},
   "source": [
    "### Outcome probability for the second Strike"
   ]
  },
  {
   "cell_type": "code",
   "execution_count": null,
   "id": "ef8992c4-856b-408d-be6c-71f71f8a3e12",
   "metadata": {},
   "outputs": [],
   "source": [
    "(\n",
    "    pf2.outcome_counts(strike2).stack(col=[\"challenge\", \"Sure Strike\"]).to_pandas()\n",
    "    * 100.0\n",
    ")"
   ]
  },
  {
   "cell_type": "markdown",
   "id": "16fb286b-b7ce-4822-bde0-d6764110f37e",
   "metadata": {},
   "source": [
    "### Outcome probability for Ignition"
   ]
  },
  {
   "cell_type": "code",
   "execution_count": null,
   "id": "941c255a-7d95-4c3e-a0a3-0f18e6ba537b",
   "metadata": {},
   "outputs": [],
   "source": [
    "(\n",
    "    pf2.outcome_counts(ignition_melee_dmg)\n",
    "    .stack(col=[\"challenge\", \"Sure Strike\"])\n",
    "    .to_pandas()\n",
    "    * 100.0\n",
    ")"
   ]
  },
  {
   "cell_type": "markdown",
   "id": "af5fd4eb-a660-4727-ba8b-75529dfc287d",
   "metadata": {},
   "source": [
    "### Outcome probability for Electric Arc"
   ]
  },
  {
   "cell_type": "code",
   "execution_count": null,
   "id": "f4dba450-ce2b-4460-8d40-dc866445d2fe",
   "metadata": {},
   "outputs": [],
   "source": [
    "(\n",
    "    pf2.outcome_counts(electric_arc_dmg)\n",
    "    .mean(\"target\")\n",
    "    .stack(col=[\"challenge\", \"Sure Strike\"])\n",
    "    .to_pandas()\n",
    "    * 100.0\n",
    ")"
   ]
  },
  {
   "cell_type": "code",
   "execution_count": null,
   "id": "d7ac3761-feb9-4ca6-aba4-a0e45baab10b",
   "metadata": {},
   "outputs": [],
   "source": []
  }
 ],
 "metadata": {
  "kernelspec": {
   "display_name": "Python 3 (ipykernel)",
   "language": "python",
   "name": "python3"
  },
  "language_info": {
   "codemirror_mode": {
    "name": "ipython",
    "version": 3
   },
   "file_extension": ".py",
   "mimetype": "text/x-python",
   "name": "python",
   "nbconvert_exporter": "python",
   "pygments_lexer": "ipython3",
   "version": "3.12.2"
  }
 },
 "nbformat": 4,
 "nbformat_minor": 5
}
