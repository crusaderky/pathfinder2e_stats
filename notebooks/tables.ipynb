{
 "cells": [
  {
   "cell_type": "markdown",
   "id": "57ae6442-80ab-48f1-bbf0-14352610b8ca",
   "metadata": {},
   "source": [
    "# Tables\n",
    "\n",
    "`pathfinder2e_stats.tables` reproduces a variety of tables from the Player Core and GM Core manuals.\n",
    "All tables are either {class}`~xarray.DataArray` or {class}`~xarray.Dataset` objects with at least an integer ``level`` dimension, plus extra table-specific dimensions.\n",
    "\n",
    "## PC tables\n",
    "These tables let us calculate a typical baseline of the various bonuses for most common Player Character (PC) builds for each level.\n",
    "\n",
    "For example, let's use them to calculate the attack bonus progression of a typical {prd_classes}`Rogue <37>` as they gain levels, not counting any temporary buffs/debuffs they may have:"
   ]
  },
  {
   "cell_type": "code",
   "execution_count": null,
   "id": "2018b906-2673-48a3-b1cb-bc610976815a",
   "metadata": {},
   "outputs": [],
   "source": [
    "import pathfinder2e_stats as pf2\n",
    "\n",
    "rogue_atk_bonus = (\n",
    "    # Start with DEX+4 at level 1 and always increase it\n",
    "    pf2.tables.PC.ability_bonus.boosts.sel(initial=4, drop=True)\n",
    "    # Get an Apex item at level 17 for +1 DEX\n",
    "    + pf2.tables.PC.ability_bonus.apex\n",
    "    # Upgrade weapons as soon as possible: +1 at level 2, +2 at level 10, etc.\n",
    "    + pf2.tables.PC.attack_item_bonus.potency_rune\n",
    "    # Trained (+2) at level 1, Expert (+4) at level 5, Master (+6) at level 13\n",
    "    + pf2.tables.PC.weapon_proficiency.martial\n",
    "    # Add level to proficiency\n",
    "    + pf2.tables.PC.level\n",
    ")\n",
    "rogue_atk_bonus.display(\"attack bonus\")"
   ]
  },
  {
   "cell_type": "markdown",
   "id": "d71bbfb2-61e0-42ae-8888-a7e0bdd1d9e0",
   "metadata": {},
   "source": [
    "TODO"
   ]
  },
  {
   "cell_type": "markdown",
   "id": "71b746d6-70f8-4b1a-823c-707a269e7a1e",
   "metadata": {},
   "source": [
    "## NPC tables\n",
    "\n",
    "TODO"
   ]
  },
  {
   "cell_type": "markdown",
   "id": "81d91e1b-1d72-468a-aced-11073819352a",
   "metadata": {},
   "source": [
    "## Other tables\n",
    "\n",
    "### DC\n",
    "\n",
    "{prd_rules}`Level-Based DCs <2629>`.\n",
    "This table is a simple {class}`~xarray.DataArray` with only the `level` dimension.\n",
    "\n",
    "Note that you can obtain the DCs by spell rank with {func}`~pathfinder2e_stats.rank2level`."
   ]
  },
  {
   "cell_type": "code",
   "execution_count": null,
   "id": "f3c0ae2b-dbb6-4b2a-a471-e6eecc2d7466",
   "metadata": {},
   "outputs": [],
   "source": [
    "pf2.tables.DC.display()"
   ]
  },
  {
   "cell_type": "markdown",
   "id": "8896c754-9ad6-49c4-a8e7-e9e4bd21b771",
   "metadata": {},
   "source": [
    "### EARN_INCOME\n",
    "\n",
    "{prd_actions}`Table 4-2 Income Earned <2364>`.\n",
    "This table is also used to {prd_actions}`Craft <2385>` and for a variety of similar Downtime activities.\n",
    "\n",
    "**Coordinates:**\n",
    "- **level** (int): Task level in the range [0, 21]\n",
    "- **proficiency** (str): Failed, Trained, Expert, Master, Legendary.\n",
    "\n",
    "**Data variables:**\n",
    "- **DC** *(level)* (int): The DC for the task\n",
    "- **income_earned** *(level, proficiency)* (float): The income earned per day of successful labour, in GP"
   ]
  },
  {
   "cell_type": "code",
   "execution_count": null,
   "id": "f788a097-15cf-496d-9105-bd71b7e2579b",
   "metadata": {},
   "outputs": [],
   "source": [
    "pf2.tables.EARN_INCOME"
   ]
  },
  {
   "cell_type": "code",
   "execution_count": null,
   "id": "8f299821-69c9-4645-a001-b5fefc8c2ca1",
   "metadata": {},
   "outputs": [],
   "source": [
    "pf2.tables.EARN_INCOME.display()"
   ]
  }
 ],
 "metadata": {
  "kernelspec": {
   "display_name": "Python 3 (ipykernel)",
   "language": "python",
   "name": "python3"
  },
  "language_info": {
   "codemirror_mode": {
    "name": "ipython",
    "version": 3
   },
   "file_extension": ".py",
   "mimetype": "text/x-python",
   "name": "python",
   "nbconvert_exporter": "python",
   "pygments_lexer": "ipython3",
   "version": "3.13.5"
  }
 },
 "nbformat": 4,
 "nbformat_minor": 5
}
