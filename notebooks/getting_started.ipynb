{
 "cells": [
  {
   "cell_type": "markdown",
   "id": "82bf6bda-c640-4c26-9b71-f87f04b75ba7",
   "metadata": {},
   "source": [
    "# Getting Started\n",
    "\n",
    "In this tutorial, we'll learn how to simulate probabilities with ``pathfinder2e_stats``.\n",
    "\n",
    "To follow this tutorial, you'll need to have at least a basic understanding of\n",
    "- The [Pathfinder rules](https://2e.aonprd.com/PlayersGuide.aspx), and\n",
    "- Data science workflows, e.g. based on Python + pandas + Jupyter notebooks. See {ref}`audience`.\n",
    "\n",
    "If you don't have your Jupyter Notebook development environment ready yet, go back to {doc}`../installing`."
   ]
  },
  {
   "cell_type": "markdown",
   "id": "f55479ba-059f-449f-bd3f-fd7c3c6ad698",
   "metadata": {},
   "source": [
    "## Rolling some dice\n",
    "Let's start simple - let's import the module and roll a d6.\n",
    "\n",
    "We're going to roll it *one hundred thousand times.*"
   ]
  },
  {
   "cell_type": "code",
   "execution_count": null,
   "id": "9d66b39f-98fe-4a23-9f8a-82e000433e11",
   "metadata": {},
   "outputs": [],
   "source": [
    "import pathfinder2e_stats as pf2\n",
    "\n",
    "oned6 = pf2.roll(1, 6)\n",
    "oned6"
   ]
  },
  {
   "cell_type": "markdown",
   "id": "91350e96-82f3-458d-ba69-2c40885967a6",
   "metadata": {},
   "source": [
    "``pathfinder2e_stats`` functions return standard {class}`xarray.DataArray` and {class}`xarray.Dataset` objects, which can be analyzed with standard data science techniques. We can start immediately answering some questions - for example, what is the mean roll?"
   ]
  },
  {
   "cell_type": "code",
   "execution_count": null,
   "id": "4f380ad7-ee57-45eb-b368-55261b7cad43",
   "metadata": {},
   "outputs": [],
   "source": [
    "oned6.mean()"
   ]
  },
  {
   "cell_type": "markdown",
   "id": "54d3963c-9f2c-434e-acaa-e241b029b1d6",
   "metadata": {},
   "source": [
    "Note that the result above is a *numerical approximation*: the mean of rolling 1d6 an *infinite* amount of times is *exactly* 3.5. If we roll it less times than that, however, there's going to be some error.\n",
    "\n",
    "If we roll it again, we are going to get a different sequence. This is because ``pathfinder2e_stats`` uses a global random number generator, which by default is reset to a fixed seed every time you restart your notebook. See {func}`~pathfinder2e_stats.rng` and {func}`~pathfinder2e_stats.seed`."
   ]
  },
  {
   "cell_type": "code",
   "execution_count": null,
   "id": "d244bf5b-15e6-4a5c-a17d-9fbef0dfe795",
   "metadata": {},
   "outputs": [],
   "source": [
    "pf2.roll(1, 6)"
   ]
  },
  {
   "cell_type": "markdown",
   "id": "2e60a391-eda4-4dcf-81bd-9e57e513ee2a",
   "metadata": {},
   "source": [
    "Well, that was easy, but we could have figured out the answer by doing the maths on the back of an envelope! Let's move on to something that is more complicated. A timeless classic: a 6d6 {prd_spells}`Fireball <1530>`!"
   ]
  },
  {
   "cell_type": "code",
   "execution_count": null,
   "id": "e499e790-3e90-4db7-8efb-c0d9ee483290",
   "metadata": {},
   "outputs": [],
   "source": [
    "fireball = pf2.roll(6, 6)\n",
    "fireball"
   ]
  },
  {
   "cell_type": "markdown",
   "id": "6078f92c-adc8-452d-a424-c6d318522aee",
   "metadata": {},
   "source": [
    "What is the damage distribution? First we're going to calculate it numerically; then we'll visualize it with ``matplotlib`` (but we could use any other library, like ``plotly`` or ``hvplot``)."
   ]
  },
  {
   "cell_type": "code",
   "execution_count": null,
   "id": "7a3ab996-2abe-45b9-9c6f-d386cab43db1",
   "metadata": {},
   "outputs": [],
   "source": [
    "fireball.value_counts(\"roll\").to_pandas()"
   ]
  },
  {
   "cell_type": "code",
   "execution_count": null,
   "id": "5ad6ad50-3da1-474a-8874-b35fd0c3f5ce",
   "metadata": {},
   "outputs": [],
   "source": [
    "_ = fireball.to_pandas().hist(bins=30)"
   ]
  },
  {
   "cell_type": "markdown",
   "id": "8e7cf060-ae24-49e9-bba4-6c84dc5fe6c0",
   "metadata": {},
   "source": [
    "But wait - that's just the base damage! The *actual* damage of a fireball depends on the target's reflex saving throw, as well as their resistances, immunities and weaknesses. ``pathfinder2e_stats`` makes dealing with all this very easy."
   ]
  },
  {
   "cell_type": "markdown",
   "id": "5042eb79-21f4-4f40-835c-4e3279d7e5e3",
   "metadata": {},
   "source": [
    "## Rolling checks\n",
    "\n",
    "TODO"
   ]
  },
  {
   "cell_type": "markdown",
   "id": "98a69221-f57b-452c-be30-b81bd49fe4af",
   "metadata": {},
   "source": [
    "## Rolling damage\n",
    "\n",
    "TODO"
   ]
  },
  {
   "cell_type": "markdown",
   "id": "9a63e4b8-c9c4-4305-ba13-8d63ee8a833e",
   "metadata": {},
   "source": [
    "## Conditional buffs/debuffs\n",
    "\n",
    "TODO"
   ]
  },
  {
   "cell_type": "markdown",
   "id": "a27dcdec-ddb7-483b-917d-6f2fac4af66e",
   "metadata": {},
   "source": [
    "## Next steps\n",
    "\n",
    "Congratulations, you finished the basic tutorial!\n",
    "\n",
    "From here, you can go look at the {doc}`index`.\n",
    "In the {doc}`../api`, you will find many functions, flags and options that were omitted here for the sake of brevity."
   ]
  }
 ],
 "metadata": {
  "kernelspec": {
   "display_name": "Python 3 (ipykernel)",
   "language": "python",
   "name": "python3"
  },
  "language_info": {
   "codemirror_mode": {
    "name": "ipython",
    "version": 3
   },
   "file_extension": ".py",
   "mimetype": "text/x-python",
   "name": "python",
   "nbconvert_exporter": "python",
   "pygments_lexer": "ipython3",
   "version": "3.13.5"
  }
 },
 "nbformat": 4,
 "nbformat_minor": 5
}
