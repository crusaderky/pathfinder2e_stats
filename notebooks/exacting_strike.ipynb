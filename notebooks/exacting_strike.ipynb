{
 "cells": [
  {
   "cell_type": "markdown",
   "id": "a160988c-38c3-4fac-b676-39f8932a880a",
   "metadata": {},
   "source": [
    "# Exacting Strike\n",
    "\n",
    "**The question we want to answer:**\n",
    "*\"I'm a level 5 fighter with a +1 Striking Maul. What's my average damage? Is Exacting Strike a good feat?\"*\n",
    "\n",
    "Let's simulate striking 3 times in a round, against a target that is not off-guard.\n",
    "On your second strike, you _may_ use Exacting Strike. If you do, the outcome changes the MAP on your third strike.\n",
    "Every time you roll a critical hit, the target needs to pass a fortitude save or be knocked prone.\n",
    "If they're knocked prone, they become flat-footed to the following attacks, and they will have to stand on the next round, provoking a Reactive Strike."
   ]
  },
  {
   "cell_type": "code",
   "execution_count": null,
   "id": "2cebb647-1c86-4668-9efc-0ffbe1513763",
   "metadata": {},
   "outputs": [],
   "source": [
    "import hvplot.xarray\n",
    "import numpy as np\n",
    "import panel\n",
    "import xarray\n",
    "\n",
    "import pathfinder2e_stats as pf2\n",
    "\n",
    "np.random.seed(0)\n",
    "hvplot.extension(\"matplotlib\")"
   ]
  },
  {
   "cell_type": "markdown",
   "id": "57bb5de4-f47d-45c8-b3bd-1106cd07c837",
   "metadata": {},
   "source": [
    "### Targets\n",
    "Let's define three targets:\n",
    "\n",
    "- a mook that's 2 levels below us, low AC, and low fortitude (GMC pp. TODO)\n",
    "- a monster at our same level, medium AC, and medium fortitude\n",
    "- a boss that's 2 levels above us, high AC, and high fortitude"
   ]
  },
  {
   "cell_type": "code",
   "execution_count": null,
   "id": "19eacfb8-3ea7-4b69-8929-0bd928afa707",
   "metadata": {},
   "outputs": [],
   "source": [
    "targets = xarray.Dataset(\n",
    "    data_vars={\n",
    "        \"AC\": (\"target\", [16, 21, 25]),\n",
    "        \"fortitude\": (\"target\", [6, 12, 18]),\n",
    "    },\n",
    "    coords={\"target\": [\"level 3 low\", \"level 5 medium\", \"level 7 high\"]},\n",
    ")\n",
    "targets.to_pandas()"
   ]
  },
  {
   "cell_type": "markdown",
   "id": "8d2678b3-efe5-472c-a7c2-d9e5080c2a43",
   "metadata": {},
   "source": [
    "### Attacker\n",
    "Then we define our own stats.\n",
    "\n",
    "**Note:** the same way we defined multiple targets using an xarray.Dataset, we could have multiple attackers, for example a fighter vs. a barbarian."
   ]
  },
  {
   "cell_type": "code",
   "execution_count": null,
   "id": "c295098f-b4fc-4347-9bc3-23cef836e20f",
   "metadata": {},
   "outputs": [],
   "source": [
    "attack_bonus = 5 + 6 + 4 + 1  # Level 5, master, STR+4, item+1\n",
    "class_DC = 10 + 5 + 2 + 4  # Level 5, trained, STR+4\n",
    "attack_bonus, class_DC"
   ]
  },
  {
   "cell_type": "markdown",
   "id": "76fc5517-9ca1-42e8-aaa3-714b59e96aa8",
   "metadata": {},
   "source": [
    "Let's create a damage profile for our weapon."
   ]
  },
  {
   "cell_type": "code",
   "execution_count": null,
   "id": "18ddf6a6-34ce-4473-a1f1-9eb02b9bc472",
   "metadata": {},
   "outputs": [],
   "source": [
    "damage_spec = pf2.Damage(\"bludgeoning\", 2, 12, 4)"
   ]
  },
  {
   "cell_type": "markdown",
   "id": "ddedc5dd-9c4b-4b12-80c7-8c45f8bd9e02",
   "metadata": {},
   "source": [
    "### First strike"
   ]
  },
  {
   "cell_type": "code",
   "execution_count": null,
   "id": "da4d1d4b-28f9-4605-a765-9ce38dcc1cc4",
   "metadata": {},
   "outputs": [],
   "source": [
    "strike1 = pf2.damage(\n",
    "    pf2.check(attack_bonus, DC=targets.AC),\n",
    "    damage_spec,\n",
    ")\n",
    "strike1"
   ]
  },
  {
   "cell_type": "markdown",
   "id": "5ad92b21-a220-4ca9-aed4-ae1edc3c4de0",
   "metadata": {},
   "source": [
    "The target must roll a Fortitude save after every critical hit or be knocked prone.\n",
    "Let's pre-roll them in advance as the bonus and DC don't change."
   ]
  },
  {
   "cell_type": "code",
   "execution_count": null,
   "id": "d38f75f7-36d6-481a-bad4-4d4eb6c2af53",
   "metadata": {},
   "outputs": [],
   "source": [
    "fort_saves = pf2.check(\n",
    "    bonus=targets.fortitude,\n",
    "    DC=class_DC,\n",
    "    allow_critical_success=False,\n",
    "    allow_critical_failure=False,\n",
    "    dims={\"strike\": 4},\n",
    ")\n",
    "fort_saves.coords[\"strike\"] = [1, 2, 3, \"reactive\"]\n",
    "knocked_prone = fort_saves.outcome == pf2.DoS.failure\n",
    "knocked_prone.mean(\"roll\").round(2).T.to_pandas()"
   ]
  },
  {
   "cell_type": "markdown",
   "id": "72aa45c4-e6e7-4e12-b16d-3e911bdbc975",
   "metadata": {},
   "source": [
    "Calculate the chance of being knocked prone by the first strike"
   ]
  },
  {
   "cell_type": "code",
   "execution_count": null,
   "id": "c406ebfc-58f8-4438-bec2-57d2b177a23c",
   "metadata": {},
   "outputs": [],
   "source": [
    "knocked_prone_1 = knocked_prone.sel(strike=\"1\", drop=True).where(\n",
    "    strike1.outcome == pf2.DoS.critical_success, False\n",
    ")\n",
    "knocked_prone_1.mean(\"roll\").round(2).to_pandas()"
   ]
  },
  {
   "cell_type": "markdown",
   "id": "f65b71fb-4e02-4a58-acfc-d7ed7b93fdcd",
   "metadata": {},
   "source": [
    "### Second strike\n",
    "The AC changes depending if the target has been knocked prone by the first strike or not."
   ]
  },
  {
   "cell_type": "code",
   "execution_count": null,
   "id": "3120f2e6-fc91-4b84-9b88-3814eea85a26",
   "metadata": {},
   "outputs": [],
   "source": [
    "strike2 = pf2.damage(\n",
    "    pf2.check(attack_bonus - 5, DC=targets.AC - knocked_prone_1 * 2),\n",
    "    damage_spec,\n",
    ")\n",
    "knocked_prone_2 = (\n",
    "    knocked_prone.sel(strike=\"2\", drop=True).where(\n",
    "        strike2.outcome == pf2.DoS.critical_success, False\n",
    "    )\n",
    ") | knocked_prone_1\n",
    "knocked_prone_2.mean(\"roll\").round(2).to_pandas()"
   ]
  },
  {
   "cell_type": "markdown",
   "id": "bc92b81b-7444-406b-b324-e09bf86cae2e",
   "metadata": {},
   "source": [
    "### Third strike\n",
    "We want to investigate the benefit of Exacting Strike. So, from now on we're going to roll everything twice, with and without the feat."
   ]
  },
  {
   "cell_type": "code",
   "execution_count": null,
   "id": "9cc12837-5ec7-4905-bd8a-1c55cf5992c4",
   "metadata": {},
   "outputs": [],
   "source": [
    "MAP3 = xarray.concat(\n",
    "    [xarray.DataArray(10), xarray.where(strike2.outcome == pf2.DoS.failure, 5, 10)],\n",
    "    dim=\"exacting_strike\",\n",
    ")\n",
    "MAP3.coords[\"exacting_strike\"] = [False, True]\n",
    "\n",
    "strike3 = pf2.damage(\n",
    "    pf2.check(attack_bonus - MAP3, DC=targets.AC - knocked_prone_2 * 2),\n",
    "    damage_spec,\n",
    ")\n",
    "knocked_prone_3 = (\n",
    "    knocked_prone.sel(strike=\"3\", drop=True).where(\n",
    "        strike3.outcome == pf2.DoS.critical_success, False\n",
    "    )\n",
    ") | knocked_prone_2\n",
    "knocked_prone_3.mean(\"roll\").round(2).to_pandas()"
   ]
  },
  {
   "cell_type": "markdown",
   "id": "6ee02b33-d047-473c-bf0a-7a9f7f707911",
   "metadata": {},
   "source": [
    "And finally the reactive strike, which happens only if the target is prone by the end of the round"
   ]
  },
  {
   "cell_type": "code",
   "execution_count": null,
   "id": "2e4681cf-7d1f-4577-9754-1fa68a87e68f",
   "metadata": {},
   "outputs": [],
   "source": [
    "reactive_strike_check = pf2.check(attack_bonus, DC=targets.AC)\n",
    "reactive_strike_check[\"outcome\"] = reactive_strike_check.outcome.where(\n",
    "    knocked_prone_3, pf2.DoS.no_roll\n",
    ")\n",
    "reactive_strike = pf2.damage(reactive_strike_check, damage_spec)\n",
    "\n",
    "knocked_prone_by_reactive_strike = knocked_prone.sel(\n",
    "    strike=\"reactive\", drop=True\n",
    ").where(reactive_strike.outcome == pf2.DoS.critical_success, False)\n",
    "knocked_prone_by_reactive_strike.mean(\"roll\").round(2).to_pandas()"
   ]
  },
  {
   "cell_type": "markdown",
   "id": "45c26193-c1e9-461d-b97f-cf5e238ec3c9",
   "metadata": {},
   "source": [
    "We're done! Let's assemble our aggregated object."
   ]
  },
  {
   "cell_type": "code",
   "execution_count": null,
   "id": "c1854aac-9fcc-42b8-b055-0924e31e7206",
   "metadata": {},
   "outputs": [],
   "source": [
    "all_strikes = xarray.concat([strike1, strike2, strike3, reactive_strike], dim=\"strike\")\n",
    "all_strikes.coords[\"strike\"] = fort_saves.strike\n",
    "all_strikes[\"prone_at_end_of_round\"] = knocked_prone_3\n",
    "all_strikes[\"prone_on_reactive_strike\"] = knocked_prone_by_reactive_strike\n",
    "all_strikes"
   ]
  },
  {
   "cell_type": "markdown",
   "id": "f6e20160-4949-4632-8d7f-64c17e43e60c",
   "metadata": {},
   "source": [
    "We can finally aggregate our measures to gather insights."
   ]
  },
  {
   "cell_type": "code",
   "execution_count": null,
   "id": "f68e686a-3edb-4d48-aae7-e07bcd806ad1",
   "metadata": {},
   "outputs": [],
   "source": [
    "agg_measures = all_strikes.sum(\"strike\").mean(\"roll\")[\n",
    "    [\"total_damage\", \"prone_at_end_of_round\", \"prone_on_reactive_strike\"]\n",
    "]\n",
    "agg_measures[\"any_damage\"] = (all_strikes[\"total_damage\"].sum(\"strike\") > 0).mean(\n",
    "    \"roll\"\n",
    ")\n",
    "agg_measures.stack(idx=[\"target\", \"exacting_strike\"]).to_array(\"measure\").round(\n",
    "    2\n",
    ").T.to_pandas()"
   ]
  },
  {
   "cell_type": "markdown",
   "id": "ae02ab1e-004b-47b8-803e-f17eec9824ac",
   "metadata": {},
   "source": [
    "What's the % benefit of exacting strike compared to three regular strikes?"
   ]
  },
  {
   "cell_type": "code",
   "execution_count": null,
   "id": "9c72d45a-cd80-4251-b08b-fbb3270b28a8",
   "metadata": {},
   "outputs": [],
   "source": [
    "(\n",
    "    agg_measures.sel(exacting_strike=True) / agg_measures.sel(exacting_strike=False)\n",
    ").to_pandas()"
   ]
  },
  {
   "cell_type": "markdown",
   "id": "d4b32a51-7762-4f77-b75b-a2ef35e9e9e7",
   "metadata": {},
   "source": [
    "The answer to the original question, _is Exacting Strike a good feat?_ is that it's quite inconsequential against weak enemies but, if you start your round in striking range of a boss and you've got nothing better to do with your third action, it will yield a solid 9% damage boost on average and will let you deal _some_ damage 6% more frequently.\n",
    "\n",
    "In almost all cases it's inconsequential fort the purpose of triggering special abilities that go off on critical hits (you'd need to crit on a 19 on the die or less, while at MAP-5, for it to matter).\n",
    "\n",
    "\n",
    "What's the damage distribution?"
   ]
  },
  {
   "cell_type": "code",
   "execution_count": null,
   "id": "d1033e14-d252-466b-9843-950b94cd8d51",
   "metadata": {},
   "outputs": [],
   "source": [
    "w_exacting_strike = panel.widgets.Checkbox(name=\"Exacting Strike\")\n",
    "\n",
    "(\n",
    "    all_strikes[\"total_damage\"]\n",
    "    .sum(\"strike\")\n",
    "    .to_dataset(\"target\")\n",
    "    .interactive.sel(exacting_strike=w_exacting_strike, drop=True)\n",
    "    .hvplot.violin()\n",
    ")"
   ]
  },
  {
   "cell_type": "markdown",
   "id": "7dceffb0-6be4-4f7c-b75a-6de07089981f",
   "metadata": {},
   "source": [
    "### Homework\n",
    "\n",
    "- How does Exacting Strike perform compared to Vicious Swing?\n",
    "- What's better, a sword (off-guard on a crit, no save) or a hammer (prone on a crit and trigger Reactive Strike, but with save)?\n",
    "- How does a two-hander (e.g. maul) perform compared to two one-handers (e.g. warhammer and light hammer) with Double Slice?\n",
    "- What's the damage distribution of a barbarian vs. that of a fighter?\n",
    "- How much extra damage, on average, does a +1 to hit (or a -1 to AC) yield?\n",
    "\n",
    "### Last words\n",
    "In real play, circumstance is everything. For example, Exacting Strike is worthless when you have to spend one action moving into position (at least until you start getting Hasted with some consistency). Knocking a target prone is much more valuable if there are multiple martials with Reactive Strike, Stand Still, or similar feats in the party. Making a target off-guard is a lot more valuable if there's a rogue in party; etc. etc. "
   ]
  }
 ],
 "metadata": {
  "kernelspec": {
   "display_name": "Python 3 (ipykernel)",
   "language": "python",
   "name": "python3"
  },
  "language_info": {
   "codemirror_mode": {
    "name": "ipython",
    "version": 3
   },
   "file_extension": ".py",
   "mimetype": "text/x-python",
   "name": "python",
   "nbconvert_exporter": "python",
   "pygments_lexer": "ipython3",
   "version": "3.12.2"
  }
 },
 "nbformat": 4,
 "nbformat_minor": 5
}
