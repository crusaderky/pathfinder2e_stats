{
 "cells": [
  {
   "cell_type": "markdown",
   "id": "9144b37a-3e64-4ab5-aeb9-ed64bfa38bf3",
   "metadata": {},
   "source": [
    "# Add injury to insult\n",
    "**A case study of murdering someone with the right choice of words**\n",
    "\n",
    "### Attacker\n",
    "Nyah, level 5 witch (The Resentment)\n",
    "**Skills** Diplomacy +14 (Bon Mot)\n",
    "\n",
    "**Occult Spells** DC 21; **3rd** Blindness or Paralyze, Biting Words; **2nd** Blistering Invective; **1st** Sure Strike x3 ; **Cantrips (3rd)** Evil Eye\n",
    "\n",
    "### Attack routine\n",
    "1. Bon Mot, Blistering Invective\n",
    "2. Blindness or Paralyze, Evil Eye\n",
    "3. Evil Eye or Sure Strike, Biting Words\n",
    "4. Evil Eye, Sure Strike, Biting Words attack\n",
    "5. Evil Eye, Sure Strike, Biting Words attack\n",
    "\n",
    "### Assumptions\n",
    "- The target attempts to clear neither Bon Mot nor Sickened\n",
    "- No movement is needed; the target remains within 30ft at all time\n",
    "- Spellcasting is not disrupted or obstructed in any way\n",
    "- Ignoring damage dealt to other creatures by casting heightened blistering invective"
   ]
  },
  {
   "cell_type": "code",
   "execution_count": null,
   "id": "ee0024ad-5f26-4ce4-aeb9-020adc16587c",
   "metadata": {},
   "outputs": [],
   "source": [
    "import numpy as np\n",
    "import xarray\n",
    "from pathfinder2e_stats import *\n",
    "\n",
    "np.random.seed(0)\n",
    "\n",
    "diplomacy = 14\n",
    "spell_DC = 21\n",
    "\n",
    "# You can change any of these to upcast or downcast them;\n",
    "# damage and incapacitation trait are adjusted automatically\n",
    "blistering_invective_rank = 2\n",
    "blindness_paralyze_rank = 3\n",
    "biting_words_rank = 3"
   ]
  },
  {
   "cell_type": "markdown",
   "id": "c4a1a3a1-68c5-46f6-b7a3-649bb91c10ea",
   "metadata": {},
   "source": [
    "### Targets"
   ]
  },
  {
   "cell_type": "code",
   "execution_count": null,
   "id": "cd2630cf-e49e-48e7-965c-df82d79703ca",
   "metadata": {},
   "outputs": [],
   "source": [
    "targets = xarray.Dataset(\n",
    "    {\n",
    "        \"target\": [\n",
    "            \"The Stag Lord\",\n",
    "            \"Ettin\",\n",
    "            \"Vampire Count\",\n",
    "            \"Hill Giant\",\n",
    "            \"Dweomercat\",\n",
    "            \"Sphinx\",\n",
    "        ],\n",
    "        \"level\": (\"target\", [6, 6, 6, 7, 7, 8]),\n",
    "        \"HP\": (\"target\", [110, 110, 65, 140, 100, 135]),\n",
    "        \"AC\": (\"target\", [23, 21, 24, 24, 25, 27]),\n",
    "        \"Will\": (\"target\", [9, 12, 17, 13, 17, 19]),\n",
    "        \"bonus_save_vs_magic\": (\"target\", [0, 0, 0, 0, 1, 0]),\n",
    "        \"sickened\": (\"target\", [1, 0, 0, 0, 0, 0]),\n",
    "    }\n",
    ")\n",
    "targets[\"rank\"] = level2rank(targets.level)\n",
    "targets.to_pandas()"
   ]
  },
  {
   "cell_type": "markdown",
   "id": "2343a359-2bd0-4316-9963-bebca28d28c5",
   "metadata": {},
   "source": [
    "### Round 1: Bon Mot -> Blistering Invective"
   ]
  },
  {
   "cell_type": "code",
   "execution_count": null,
   "id": "242db822-3827-4fd3-9d3e-2bf6757c6b1e",
   "metadata": {},
   "outputs": [],
   "source": [
    "bon_mot = check(diplomacy, DC=targets.Will + 10 - targets.sickened)\n",
    "bon_mot[\"Will_penalty\"] = map_outcome(\n",
    "    bon_mot.outcome,\n",
    "    {DoS.success: 2, DoS.critical_success: 3},\n",
    ")\n",
    "_ = bon_mot.Will_penalty.to_pandas().hist(figsize=(10, 8))"
   ]
  },
  {
   "cell_type": "code",
   "execution_count": null,
   "id": "9010ef00-0eed-42c3-a93f-9ab4db5b09f8",
   "metadata": {},
   "outputs": [],
   "source": [
    "sickened = [targets.sickened]\n",
    "will = [\n",
    "    sum_bonuses(\n",
    "        (\"untyped\", targets.Will),\n",
    "        (\"status\", targets.bonus_save_vs_magic),\n",
    "        (\"status\", -targets.sickened),\n",
    "        (\"status\", -bon_mot.Will_penalty),\n",
    "    )\n",
    "]\n",
    "\n",
    "blistering_invective = damage(\n",
    "    check(will[0], DC=spell_DC),\n",
    "    Damage(\n",
    "        \"fire\", blistering_invective_rank // 2 * 2, 6, persistent=True, basic_save=True\n",
    "    ),\n",
    "    persistent_damage_rounds=5,\n",
    ").rename({\"persistent_round\": \"round\"})\n",
    "\n",
    "blistering_invective_damage = (\n",
    "    blistering_invective[\"persistent_damage\"]\n",
    "    .where(blistering_invective[\"apply_persistent_damage\"], 0)\n",
    "    .sum(\"damage_type\")\n",
    ")\n",
    "blistering_invective_damage.mean(\"roll\").to_pandas().T"
   ]
  },
  {
   "cell_type": "code",
   "execution_count": null,
   "id": "b1db4fea-1333-4811-989d-e7bd8ff70ba3",
   "metadata": {},
   "outputs": [],
   "source": [
    "frightened = map_outcome(\n",
    "    blistering_invective[\"outcome\"],\n",
    "    {DoS.failure: 1, DoS.critical_failure: 2},\n",
    ")\n",
    "frightened = np.maximum(0, frightened - blistering_invective[\"round\"])\n",
    "frightened.isel(roll=3).to_pandas()"
   ]
  },
  {
   "cell_type": "code",
   "execution_count": null,
   "id": "9d78f700-ca6f-4a9f-995b-99423e6115bf",
   "metadata": {},
   "outputs": [],
   "source": [
    "_ = frightened.isel(round=0).to_pandas().hist(figsize=(10, 8))"
   ]
  },
  {
   "cell_type": "markdown",
   "id": "09d75248-b5da-4735-988a-e15f2c9849a2",
   "metadata": {},
   "source": [
    "### Round 2: Blindness or Paralyze -> Evil Eye\n",
    "Blindness and Paralyze are rank 3+ spells with the incapacitation trait. level 7+ targets get the success of their saves one step better. Run the simulation from now on with either of the options.\n",
    "Evil Eye is used to extend the duration in both cases."
   ]
  },
  {
   "cell_type": "code",
   "execution_count": null,
   "id": "915619b3-9deb-459d-bf02-ee998d4499b5",
   "metadata": {},
   "outputs": [],
   "source": [
    "will.append(\n",
    "    sum_bonuses(\n",
    "        (\"untyped\", targets.Will),\n",
    "        (\"status\", targets.bonus_save_vs_magic),\n",
    "        (\"status\", -sickened[-1]),\n",
    "        (\"status\", -bon_mot.Will_penalty),\n",
    "        (\"status\", -frightened.isel(round=1, drop=True)),\n",
    "    )\n",
    ")\n",
    "blindness_paralyze = check(\n",
    "    bonus=will[-1],\n",
    "    DC=spell_DC,\n",
    "    incapacitation=targets[\"rank\"] > blindness_paralyze_rank,\n",
    ")\n",
    "\n",
    "# In case of simple success, we use Evil Eye to extend the blindness for the whole combat\n",
    "blindness_paralyze[\"need_evil_eye\"] = xarray.concat(\n",
    "    [\n",
    "        blindness_paralyze.outcome == DoS.success,\n",
    "        blindness_paralyze.outcome == DoS.failure,\n",
    "    ],\n",
    "    dim=\"incapacitation_spell\",\n",
    ")\n",
    "blindness_paralyze[\"off_guard\"] = xarray.concat(\n",
    "    [\n",
    "        blindness_paralyze.outcome < DoS.critical_success,\n",
    "        blindness_paralyze.outcome < DoS.success,\n",
    "    ],\n",
    "    dim=\"incapacitation_spell\",\n",
    ")\n",
    "blindness_paralyze[\"incapacitation_spell\"] = [\"blindness\", \"paralyze\"]"
   ]
  },
  {
   "cell_type": "code",
   "execution_count": null,
   "id": "f6266502-7bea-4825-8555-f1bc292a4d57",
   "metadata": {},
   "outputs": [],
   "source": [
    "(\n",
    "    blindness_paralyze[[\"off_guard\", \"need_evil_eye\"]]\n",
    "    .mean(\"roll\")\n",
    "    .to_array(\"condition\")\n",
    "    .stack(col=[\"condition\", \"incapacitation_spell\"])\n",
    "    .to_pandas()\n",
    ")"
   ]
  },
  {
   "cell_type": "code",
   "execution_count": null,
   "id": "598280de-cdb5-4131-aa01-25a3d33a426d",
   "metadata": {},
   "outputs": [],
   "source": [
    "def evil_eye(will_bonus, spell_DC, do_cast=True):\n",
    "    c = check(will_bonus, DC=spell_DC).outcome\n",
    "    c = c.where(do_cast, DoS.no_roll)\n",
    "    return map_outcome(c, {DoS.critical_failure: 2, DoS.failure: 1})\n",
    "\n",
    "\n",
    "sickened.append(np.maximum(sickened[-1], evil_eye(will[-1], spell_DC)))"
   ]
  },
  {
   "cell_type": "code",
   "execution_count": null,
   "id": "34636c32-81a0-4419-b707-78fe56409391",
   "metadata": {},
   "outputs": [],
   "source": [
    "_ = sickened[-1].to_pandas().T.hist(figsize=(10, 8))"
   ]
  },
  {
   "cell_type": "markdown",
   "id": "4a97dac9-2bc9-4a64-b93b-b0a6e478956e",
   "metadata": {},
   "source": [
    "### Round 3: Evil Eye or Sure Strike -> Biting Words\n",
    "If the target scored a simple success vs. Blindness in round 2, extend its duration with Evil Eye.\n",
    "Otherwise, cast Sure Strike. Then, cast Biting Words.\n",
    "### Round 4 and 5: Evil Eye -> Sure Strike -> Biting Words attack"
   ]
  },
  {
   "cell_type": "code",
   "execution_count": null,
   "id": "d4fcaf4a-9895-4fdf-902c-ad0daeb3786e",
   "metadata": {},
   "outputs": [],
   "source": [
    "for rnd in range(2, 5):\n",
    "    will.append(\n",
    "        sum_bonuses(\n",
    "            (\"untyped\", targets.Will),\n",
    "            (\"status\", targets.bonus_save_vs_magic),\n",
    "            (\"status\", -sickened[-1]),\n",
    "            (\"status\", -bon_mot.Will_penalty),\n",
    "        )\n",
    "    )\n",
    "    cast_evil_eye = blindness_paralyze.need_evil_eye if rnd == 2 else True\n",
    "    sickened.append(\n",
    "        np.maximum(sickened[-1], evil_eye(will[-1], spell_DC, do_cast=cast_evil_eye))\n",
    "    )\n",
    "\n",
    "assert len(will) == 5\n",
    "assert len(sickened) == 5\n",
    "\n",
    "will = xarray.concat(will, dim=\"round\")\n",
    "sickened = xarray.concat(sickened, dim=\"round\")"
   ]
  },
  {
   "cell_type": "code",
   "execution_count": null,
   "id": "32c36db4-8219-4ca8-aec4-1c9c44908b73",
   "metadata": {},
   "outputs": [],
   "source": [
    "off_guard = xarray.concat(\n",
    "    [\n",
    "        xarray.DataArray(False),\n",
    "        blindness_paralyze.off_guard.expand_dims(round=4),\n",
    "    ],\n",
    "    dim=\"round\",\n",
    ")\n",
    "AC = sum_bonuses(\n",
    "    (\"untyped\", targets.AC),\n",
    "    (\"status\", -frightened),\n",
    "    (\"status\", -sickened),\n",
    "    (\"circumstance\", off_guard.astype(int) * -2),\n",
    ")\n",
    "AC.mean(\"roll\").stack(col=[\"round\", \"incapacitation_spell\"]).to_pandas()"
   ]
  },
  {
   "cell_type": "code",
   "execution_count": null,
   "id": "edcca9de-1703-4ced-844a-9364cd832be0",
   "metadata": {},
   "outputs": [],
   "source": [
    "# TODO allow check(... fortune=...) with DataArray parameter\n",
    "biting_words_check = check(spell_DC - 10, DC=AC, dims={\"fortune\": 2})\n",
    "biting_words_check[\"outcome\"] = xarray.concat(\n",
    "    [\n",
    "        xarray.DataArray([DoS.no_roll, DoS.no_roll], dims=[\"round\"]),\n",
    "        xarray.where(\n",
    "            blindness_paralyze.need_evil_eye,\n",
    "            biting_words_check[\"outcome\"].isel(round=2, fortune=0),\n",
    "            biting_words_check[\"outcome\"].isel(round=2).max(\"fortune\"),\n",
    "        ),\n",
    "        biting_words_check[\"outcome\"].isel(round=[3, 4]).max(\"fortune\"),\n",
    "    ],\n",
    "    dim=\"round\",\n",
    ")\n",
    "\n",
    "biting_words_damage = damage(\n",
    "    biting_words_check, Damage(\"sonic\", biting_words_rank * 2, 6)\n",
    ").total_damage\n",
    "biting_words_damage.mean(\"roll\").stack(\n",
    "    col=[\"round\", \"incapacitation_spell\"]\n",
    ").to_pandas()"
   ]
  },
  {
   "cell_type": "markdown",
   "id": "42c3e885-be0b-4c70-a44a-7afacfa79e0e",
   "metadata": {},
   "source": [
    "### Put it all together"
   ]
  },
  {
   "cell_type": "code",
   "execution_count": null,
   "id": "57d9947b-3922-4815-82eb-3436e09ec3c5",
   "metadata": {},
   "outputs": [],
   "source": [
    "final = xarray.Dataset(\n",
    "    {\n",
    "        \"AC\": AC,\n",
    "        \"Will\": will,\n",
    "        \"off_guard\": blindness_paralyze.off_guard,\n",
    "        \"need_evil_eye\": blindness_paralyze.need_evil_eye,\n",
    "        \"blistering_invective\": blistering_invective_damage,\n",
    "        \"biting_words\": biting_words_damage,\n",
    "        \"total_damage\": blistering_invective_damage + biting_words_damage,\n",
    "    }\n",
    ").transpose(\"target\", \"roll\", \"round\", \"incapacitation_spell\")\n",
    "final[\"harmed\"] = final.total_damage.sum(\"round\") > 0\n",
    "final[\"bloodied\"] = final.total_damage.sum(\"round\") > targets.HP // 2\n",
    "final[\"killed\"] = final.total_damage.sum(\"round\") >= targets.HP\n",
    "final"
   ]
  },
  {
   "cell_type": "markdown",
   "id": "da162a65-2559-4fb2-8e37-7bde09415721",
   "metadata": {},
   "source": [
    "### Let's analyse our results!\n",
    "#### Mean cumulative damage by the end of the attack routine"
   ]
  },
  {
   "cell_type": "code",
   "execution_count": null,
   "id": "69d45f7b-6634-4486-81f4-d61eec4ff43e",
   "metadata": {},
   "outputs": [],
   "source": [
    "(\n",
    "    final[[\"blistering_invective\", \"biting_words\", \"total_damage\"]]\n",
    "    .mean(\"roll\")\n",
    "    .sum(\"round\")\n",
    "    .to_array(\"component\")\n",
    "    .stack(col=[\"component\", \"incapacitation_spell\"])\n",
    "    .to_pandas()\n",
    ")"
   ]
  },
  {
   "cell_type": "markdown",
   "id": "7bdfbff6-4fa1-4f70-8392-ca0496e44314",
   "metadata": {},
   "source": [
    "- Probability of dealing any HP damage at all\n",
    "- Probability of dealing more than 50% HP damage\n",
    "- Probability of solo killing the target\n",
    "- Probability of blinding the target in round 2\n",
    "- Probability of needing to spam evil eye every round to keep them blind"
   ]
  },
  {
   "cell_type": "code",
   "execution_count": null,
   "id": "927bfc4e-527e-4914-9a6a-1c6f52b47d41",
   "metadata": {},
   "outputs": [],
   "source": [
    "(\n",
    "    final[[\"harmed\", \"bloodied\", \"killed\", \"off_guard\", \"need_evil_eye\"]]\n",
    "    .mean(\"roll\")\n",
    "    .to_array(\"condition\")\n",
    "    .stack(col=[\"condition\", \"incapacitation_spell\"])\n",
    "    .to_pandas()\n",
    ")"
   ]
  },
  {
   "cell_type": "markdown",
   "id": "755a7c45-2838-4b95-a511-c5f8093e10c0",
   "metadata": {},
   "source": [
    "#### Damage distribution"
   ]
  },
  {
   "cell_type": "code",
   "execution_count": null,
   "id": "59038d31-4f3e-41fa-b334-92ee2c681713",
   "metadata": {},
   "outputs": [],
   "source": [
    "_ = (\n",
    "    final[\"total_damage\"]\n",
    "    .sum(\"round\")\n",
    "    .sel(incapacitation_spell=\"blindness\")\n",
    "    .T.to_pandas()\n",
    "    .hist(bins=50, figsize=(10, 8))\n",
    ")"
   ]
  },
  {
   "cell_type": "markdown",
   "id": "176f0f15-0ba3-4856-ab19-59b013f3017e",
   "metadata": {},
   "source": [
    "#### Damage distribution, normalized by target's hit points total"
   ]
  },
  {
   "cell_type": "code",
   "execution_count": null,
   "id": "283b4f30-4aae-4bca-ae24-423d09eadf2b",
   "metadata": {},
   "outputs": [],
   "source": [
    "_ = (\n",
    "    (final[\"total_damage\"].sum(\"round\") / targets.HP)\n",
    "    .sel(incapacitation_spell=\"blindness\")\n",
    "    .T.to_pandas()\n",
    "    .hist(bins=50, figsize=(10, 8))\n",
    ")"
   ]
  },
  {
   "cell_type": "markdown",
   "id": "0102b6d7-9d67-407b-be2c-fb5f0ff94464",
   "metadata": {},
   "source": [
    "#### Worst AC over the 5 rounds"
   ]
  },
  {
   "cell_type": "code",
   "execution_count": null,
   "id": "7b7f776f-afa5-491a-b479-23a9c8d80e7c",
   "metadata": {},
   "outputs": [],
   "source": [
    "_ = (\n",
    "    final[\"AC\"]\n",
    "    .min(\"round\")\n",
    "    .sel(incapacitation_spell=\"blindness\")\n",
    "    .T.to_pandas()\n",
    "    .hist(bins=20, figsize=(10, 8))\n",
    ")"
   ]
  },
  {
   "cell_type": "markdown",
   "id": "beada626-4485-4781-8a54-23729ba66451",
   "metadata": {},
   "source": [
    "#### Worst Will bonus over the 5 rounds"
   ]
  },
  {
   "cell_type": "code",
   "execution_count": null,
   "id": "d1a55ae6-2f9c-4846-9e36-f0b8a711ed02",
   "metadata": {},
   "outputs": [],
   "source": [
    "_ = (\n",
    "    final[\"Will\"]\n",
    "    .min(\"round\")\n",
    "    .sel(incapacitation_spell=\"blindness\")\n",
    "    .T.to_pandas()\n",
    "    .hist(bins=20, figsize=(10, 8))\n",
    ")"
   ]
  },
  {
   "cell_type": "code",
   "execution_count": null,
   "id": "714301ef-3ff0-4756-ade3-c343425455f9",
   "metadata": {},
   "outputs": [],
   "source": []
  }
 ],
 "metadata": {
  "kernelspec": {
   "display_name": "Python 3 (ipykernel)",
   "language": "python",
   "name": "python3"
  },
  "language_info": {
   "codemirror_mode": {
    "name": "ipython",
    "version": 3
   },
   "file_extension": ".py",
   "mimetype": "text/x-python",
   "name": "python",
   "nbconvert_exporter": "python",
   "pygments_lexer": "ipython3",
   "version": "3.12.2"
  }
 },
 "nbformat": 4,
 "nbformat_minor": 5
}
